{
 "cells": [
  {
   "cell_type": "markdown",
   "metadata": {
    "toc": true
   },
   "source": [
    "<h1>Table of Contents<span class=\"tocSkip\"></span></h1>\n",
    "<div class=\"toc\"><ul class=\"toc-item\"></ul></div>"
   ]
  },
  {
   "cell_type": "code",
   "execution_count": 2,
   "metadata": {},
   "outputs": [],
   "source": [
    "import pandas as pd\n",
    "import matplotlib\n",
    "from pathlib import Path"
   ]
  },
  {
   "cell_type": "code",
   "execution_count": 11,
   "metadata": {},
   "outputs": [],
   "source": [
    "simulation_sage_train_test_default = pd.read_csv(Path.cwd().joinpath(\"simulation_sage_tt_default.csv\"),).iloc[:,1:]\n",
    "simulation_sage_train_train_default = pd.read_csv(Path.cwd().joinpath(\"simulation_sage_train_train_default.csv\"),).iloc[:,1:]\n",
    "\n",
    "simulation_sage_train_train_0 = pd.read_csv(Path.cwd().joinpath(\"simulation_sage_train_train_0.csv\"),).iloc[:,1:]\n",
    "simulation_sage_train_test_0 = pd.read_csv(Path.cwd().joinpath(\"simulation_sage_train_test_0.csv\"),).iloc[:,1:]\n",
    "\n",
    "simulation_sage_train_test_0_m2_md2 = pd.read_csv(Path.cwd().joinpath(\"simulation_sage_train_test_0_m2_md2.csv\"),).iloc[:,1:]\n",
    "simulation_sage_train_train_0_m2_md2 = pd.read_csv(Path.cwd().joinpath(\"simulation_sage_train_train_0_m2_md2.csv\"),).iloc[:,1:]\n",
    "\n",
    "simulation_sage_train_test_0_m5_md2 = pd.read_csv(Path.cwd().joinpath(\"simulation_sage_train_test_0_m5_md2.csv\"),).iloc[:,1:]\n",
    "\n",
    "simulation_mtry2md2 = pd.read_csv(Path.cwd().joinpath(\"simulation_mtry2md2.csv\"),).iloc[:,1:]\n",
    "simulation_mtry5md2 = pd.read_csv(Path.cwd().joinpath(\"simulation_mtry5md2.csv\"),).iloc[:,1:]"
   ]
  },
  {
   "cell_type": "code",
   "execution_count": 6,
   "metadata": {},
   "outputs": [
    {
     "data": {
      "text/html": [
       "<div>\n",
       "<style scoped>\n",
       "    .dataframe tbody tr th:only-of-type {\n",
       "        vertical-align: middle;\n",
       "    }\n",
       "\n",
       "    .dataframe tbody tr th {\n",
       "        vertical-align: top;\n",
       "    }\n",
       "\n",
       "    .dataframe thead th {\n",
       "        text-align: right;\n",
       "    }\n",
       "</style>\n",
       "<table border=\"1\" class=\"dataframe\">\n",
       "  <thead>\n",
       "    <tr style=\"text-align: right;\">\n",
       "      <th></th>\n",
       "      <th>x1</th>\n",
       "      <th>x2</th>\n",
       "      <th>x3</th>\n",
       "      <th>x4</th>\n",
       "      <th>x5</th>\n",
       "    </tr>\n",
       "  </thead>\n",
       "  <tbody>\n",
       "    <tr>\n",
       "      <th>0</th>\n",
       "      <td>-0.066611</td>\n",
       "      <td>0.052594</td>\n",
       "      <td>-0.014480</td>\n",
       "      <td>-0.033567</td>\n",
       "      <td>-0.029894</td>\n",
       "    </tr>\n",
       "    <tr>\n",
       "      <th>1</th>\n",
       "      <td>-0.077015</td>\n",
       "      <td>0.047994</td>\n",
       "      <td>-0.011356</td>\n",
       "      <td>-0.028116</td>\n",
       "      <td>-0.033608</td>\n",
       "    </tr>\n",
       "    <tr>\n",
       "      <th>2</th>\n",
       "      <td>-0.080794</td>\n",
       "      <td>0.017908</td>\n",
       "      <td>0.000024</td>\n",
       "      <td>-0.027482</td>\n",
       "      <td>-0.035389</td>\n",
       "    </tr>\n",
       "    <tr>\n",
       "      <th>3</th>\n",
       "      <td>-0.090684</td>\n",
       "      <td>0.026011</td>\n",
       "      <td>-0.021002</td>\n",
       "      <td>-0.030077</td>\n",
       "      <td>-0.034006</td>\n",
       "    </tr>\n",
       "    <tr>\n",
       "      <th>4</th>\n",
       "      <td>-0.132579</td>\n",
       "      <td>0.007535</td>\n",
       "      <td>-0.009227</td>\n",
       "      <td>-0.044922</td>\n",
       "      <td>-0.029666</td>\n",
       "    </tr>\n",
       "    <tr>\n",
       "      <th>...</th>\n",
       "      <td>...</td>\n",
       "      <td>...</td>\n",
       "      <td>...</td>\n",
       "      <td>...</td>\n",
       "      <td>...</td>\n",
       "    </tr>\n",
       "    <tr>\n",
       "      <th>95</th>\n",
       "      <td>-0.072673</td>\n",
       "      <td>0.019149</td>\n",
       "      <td>-0.010395</td>\n",
       "      <td>-0.006430</td>\n",
       "      <td>-0.047635</td>\n",
       "    </tr>\n",
       "    <tr>\n",
       "      <th>96</th>\n",
       "      <td>-0.134411</td>\n",
       "      <td>0.021691</td>\n",
       "      <td>-0.016580</td>\n",
       "      <td>-0.017942</td>\n",
       "      <td>-0.080520</td>\n",
       "    </tr>\n",
       "    <tr>\n",
       "      <th>97</th>\n",
       "      <td>-0.064084</td>\n",
       "      <td>-0.029669</td>\n",
       "      <td>-0.008728</td>\n",
       "      <td>-0.027367</td>\n",
       "      <td>-0.023949</td>\n",
       "    </tr>\n",
       "    <tr>\n",
       "      <th>98</th>\n",
       "      <td>-0.060096</td>\n",
       "      <td>-0.011267</td>\n",
       "      <td>-0.013803</td>\n",
       "      <td>-0.018996</td>\n",
       "      <td>-0.063318</td>\n",
       "    </tr>\n",
       "    <tr>\n",
       "      <th>99</th>\n",
       "      <td>-0.124486</td>\n",
       "      <td>0.027100</td>\n",
       "      <td>-0.020396</td>\n",
       "      <td>-0.032520</td>\n",
       "      <td>-0.032193</td>\n",
       "    </tr>\n",
       "  </tbody>\n",
       "</table>\n",
       "<p>100 rows × 5 columns</p>\n",
       "</div>"
      ],
      "text/plain": [
       "          x1        x2        x3        x4        x5\n",
       "0  -0.066611  0.052594 -0.014480 -0.033567 -0.029894\n",
       "1  -0.077015  0.047994 -0.011356 -0.028116 -0.033608\n",
       "2  -0.080794  0.017908  0.000024 -0.027482 -0.035389\n",
       "3  -0.090684  0.026011 -0.021002 -0.030077 -0.034006\n",
       "4  -0.132579  0.007535 -0.009227 -0.044922 -0.029666\n",
       "..       ...       ...       ...       ...       ...\n",
       "95 -0.072673  0.019149 -0.010395 -0.006430 -0.047635\n",
       "96 -0.134411  0.021691 -0.016580 -0.017942 -0.080520\n",
       "97 -0.064084 -0.029669 -0.008728 -0.027367 -0.023949\n",
       "98 -0.060096 -0.011267 -0.013803 -0.018996 -0.063318\n",
       "99 -0.124486  0.027100 -0.020396 -0.032520 -0.032193\n",
       "\n",
       "[100 rows x 5 columns]"
      ]
     },
     "execution_count": 6,
     "metadata": {},
     "output_type": "execute_result"
    }
   ],
   "source": [
    "simulation1"
   ]
  },
  {
   "cell_type": "code",
   "execution_count": 7,
   "metadata": {},
   "outputs": [
    {
     "data": {
      "text/html": [
       "<div>\n",
       "<style scoped>\n",
       "    .dataframe tbody tr th:only-of-type {\n",
       "        vertical-align: middle;\n",
       "    }\n",
       "\n",
       "    .dataframe tbody tr th {\n",
       "        vertical-align: top;\n",
       "    }\n",
       "\n",
       "    .dataframe thead th {\n",
       "        text-align: right;\n",
       "    }\n",
       "</style>\n",
       "<table border=\"1\" class=\"dataframe\">\n",
       "  <thead>\n",
       "    <tr style=\"text-align: right;\">\n",
       "      <th></th>\n",
       "      <th>x1</th>\n",
       "      <th>x2</th>\n",
       "      <th>x3</th>\n",
       "      <th>x4</th>\n",
       "      <th>x5</th>\n",
       "    </tr>\n",
       "  </thead>\n",
       "  <tbody>\n",
       "    <tr>\n",
       "      <th>0</th>\n",
       "      <td>-0.042862</td>\n",
       "      <td>0.050000</td>\n",
       "      <td>-0.015755</td>\n",
       "      <td>-0.006164</td>\n",
       "      <td>-0.010198</td>\n",
       "    </tr>\n",
       "    <tr>\n",
       "      <th>1</th>\n",
       "      <td>-0.042087</td>\n",
       "      <td>0.035942</td>\n",
       "      <td>-0.002641</td>\n",
       "      <td>-0.005427</td>\n",
       "      <td>-0.051919</td>\n",
       "    </tr>\n",
       "    <tr>\n",
       "      <th>2</th>\n",
       "      <td>-0.062565</td>\n",
       "      <td>0.055039</td>\n",
       "      <td>-0.008738</td>\n",
       "      <td>-0.003853</td>\n",
       "      <td>-0.006522</td>\n",
       "    </tr>\n",
       "    <tr>\n",
       "      <th>3</th>\n",
       "      <td>-0.048534</td>\n",
       "      <td>0.037433</td>\n",
       "      <td>-0.010219</td>\n",
       "      <td>0.005606</td>\n",
       "      <td>-0.023818</td>\n",
       "    </tr>\n",
       "    <tr>\n",
       "      <th>4</th>\n",
       "      <td>-0.027147</td>\n",
       "      <td>0.042146</td>\n",
       "      <td>0.007199</td>\n",
       "      <td>-0.013803</td>\n",
       "      <td>-0.005645</td>\n",
       "    </tr>\n",
       "    <tr>\n",
       "      <th>...</th>\n",
       "      <td>...</td>\n",
       "      <td>...</td>\n",
       "      <td>...</td>\n",
       "      <td>...</td>\n",
       "      <td>...</td>\n",
       "    </tr>\n",
       "    <tr>\n",
       "      <th>95</th>\n",
       "      <td>-0.041402</td>\n",
       "      <td>0.050108</td>\n",
       "      <td>-0.002844</td>\n",
       "      <td>-0.016069</td>\n",
       "      <td>-0.022738</td>\n",
       "    </tr>\n",
       "    <tr>\n",
       "      <th>96</th>\n",
       "      <td>-0.030294</td>\n",
       "      <td>0.047076</td>\n",
       "      <td>0.000090</td>\n",
       "      <td>-0.013389</td>\n",
       "      <td>-0.017467</td>\n",
       "    </tr>\n",
       "    <tr>\n",
       "      <th>97</th>\n",
       "      <td>-0.046772</td>\n",
       "      <td>0.046270</td>\n",
       "      <td>-0.008527</td>\n",
       "      <td>-0.014326</td>\n",
       "      <td>-0.015632</td>\n",
       "    </tr>\n",
       "    <tr>\n",
       "      <th>98</th>\n",
       "      <td>-0.047391</td>\n",
       "      <td>0.028671</td>\n",
       "      <td>-0.007407</td>\n",
       "      <td>-0.008777</td>\n",
       "      <td>-0.037193</td>\n",
       "    </tr>\n",
       "    <tr>\n",
       "      <th>99</th>\n",
       "      <td>-0.070176</td>\n",
       "      <td>0.005892</td>\n",
       "      <td>-0.001337</td>\n",
       "      <td>-0.017539</td>\n",
       "      <td>-0.021514</td>\n",
       "    </tr>\n",
       "  </tbody>\n",
       "</table>\n",
       "<p>100 rows × 5 columns</p>\n",
       "</div>"
      ],
      "text/plain": [
       "          x1        x2        x3        x4        x5\n",
       "0  -0.042862  0.050000 -0.015755 -0.006164 -0.010198\n",
       "1  -0.042087  0.035942 -0.002641 -0.005427 -0.051919\n",
       "2  -0.062565  0.055039 -0.008738 -0.003853 -0.006522\n",
       "3  -0.048534  0.037433 -0.010219  0.005606 -0.023818\n",
       "4  -0.027147  0.042146  0.007199 -0.013803 -0.005645\n",
       "..       ...       ...       ...       ...       ...\n",
       "95 -0.041402  0.050108 -0.002844 -0.016069 -0.022738\n",
       "96 -0.030294  0.047076  0.000090 -0.013389 -0.017467\n",
       "97 -0.046772  0.046270 -0.008527 -0.014326 -0.015632\n",
       "98 -0.047391  0.028671 -0.007407 -0.008777 -0.037193\n",
       "99 -0.070176  0.005892 -0.001337 -0.017539 -0.021514\n",
       "\n",
       "[100 rows x 5 columns]"
      ]
     },
     "execution_count": 7,
     "metadata": {},
     "output_type": "execute_result"
    }
   ],
   "source": [
    "simulation_mtry2md2"
   ]
  },
  {
   "cell_type": "code",
   "execution_count": 8,
   "metadata": {
    "scrolled": true
   },
   "outputs": [
    {
     "data": {
      "text/html": [
       "<div>\n",
       "<style scoped>\n",
       "    .dataframe tbody tr th:only-of-type {\n",
       "        vertical-align: middle;\n",
       "    }\n",
       "\n",
       "    .dataframe tbody tr th {\n",
       "        vertical-align: top;\n",
       "    }\n",
       "\n",
       "    .dataframe thead th {\n",
       "        text-align: right;\n",
       "    }\n",
       "</style>\n",
       "<table border=\"1\" class=\"dataframe\">\n",
       "  <thead>\n",
       "    <tr style=\"text-align: right;\">\n",
       "      <th></th>\n",
       "      <th>x1</th>\n",
       "      <th>x2</th>\n",
       "      <th>x3</th>\n",
       "      <th>x4</th>\n",
       "      <th>x5</th>\n",
       "    </tr>\n",
       "  </thead>\n",
       "  <tbody>\n",
       "    <tr>\n",
       "      <th>0</th>\n",
       "      <td>-0.049208</td>\n",
       "      <td>0.060605</td>\n",
       "      <td>-0.010497</td>\n",
       "      <td>-0.011541</td>\n",
       "      <td>-0.011875</td>\n",
       "    </tr>\n",
       "    <tr>\n",
       "      <th>1</th>\n",
       "      <td>-0.053089</td>\n",
       "      <td>0.028263</td>\n",
       "      <td>-0.011159</td>\n",
       "      <td>-0.012910</td>\n",
       "      <td>-0.005327</td>\n",
       "    </tr>\n",
       "    <tr>\n",
       "      <th>2</th>\n",
       "      <td>-0.057609</td>\n",
       "      <td>0.044369</td>\n",
       "      <td>0.001162</td>\n",
       "      <td>-0.012560</td>\n",
       "      <td>-0.027656</td>\n",
       "    </tr>\n",
       "    <tr>\n",
       "      <th>3</th>\n",
       "      <td>-0.065399</td>\n",
       "      <td>0.029883</td>\n",
       "      <td>-0.000394</td>\n",
       "      <td>-0.011399</td>\n",
       "      <td>-0.004013</td>\n",
       "    </tr>\n",
       "    <tr>\n",
       "      <th>4</th>\n",
       "      <td>-0.041690</td>\n",
       "      <td>0.043154</td>\n",
       "      <td>-0.007627</td>\n",
       "      <td>-0.008736</td>\n",
       "      <td>-0.012301</td>\n",
       "    </tr>\n",
       "    <tr>\n",
       "      <th>...</th>\n",
       "      <td>...</td>\n",
       "      <td>...</td>\n",
       "      <td>...</td>\n",
       "      <td>...</td>\n",
       "      <td>...</td>\n",
       "    </tr>\n",
       "    <tr>\n",
       "      <th>95</th>\n",
       "      <td>-0.088405</td>\n",
       "      <td>0.046296</td>\n",
       "      <td>-0.013540</td>\n",
       "      <td>-0.016070</td>\n",
       "      <td>-0.019937</td>\n",
       "    </tr>\n",
       "    <tr>\n",
       "      <th>96</th>\n",
       "      <td>-0.046595</td>\n",
       "      <td>0.024264</td>\n",
       "      <td>-0.019401</td>\n",
       "      <td>-0.009707</td>\n",
       "      <td>-0.023145</td>\n",
       "    </tr>\n",
       "    <tr>\n",
       "      <th>97</th>\n",
       "      <td>-0.060904</td>\n",
       "      <td>0.037730</td>\n",
       "      <td>-0.001164</td>\n",
       "      <td>-0.034830</td>\n",
       "      <td>-0.035776</td>\n",
       "    </tr>\n",
       "    <tr>\n",
       "      <th>98</th>\n",
       "      <td>-0.029487</td>\n",
       "      <td>0.042733</td>\n",
       "      <td>-0.008163</td>\n",
       "      <td>-0.023383</td>\n",
       "      <td>-0.014691</td>\n",
       "    </tr>\n",
       "    <tr>\n",
       "      <th>99</th>\n",
       "      <td>-0.044244</td>\n",
       "      <td>0.028125</td>\n",
       "      <td>-0.002569</td>\n",
       "      <td>-0.016829</td>\n",
       "      <td>-0.031984</td>\n",
       "    </tr>\n",
       "  </tbody>\n",
       "</table>\n",
       "<p>100 rows × 5 columns</p>\n",
       "</div>"
      ],
      "text/plain": [
       "          x1        x2        x3        x4        x5\n",
       "0  -0.049208  0.060605 -0.010497 -0.011541 -0.011875\n",
       "1  -0.053089  0.028263 -0.011159 -0.012910 -0.005327\n",
       "2  -0.057609  0.044369  0.001162 -0.012560 -0.027656\n",
       "3  -0.065399  0.029883 -0.000394 -0.011399 -0.004013\n",
       "4  -0.041690  0.043154 -0.007627 -0.008736 -0.012301\n",
       "..       ...       ...       ...       ...       ...\n",
       "95 -0.088405  0.046296 -0.013540 -0.016070 -0.019937\n",
       "96 -0.046595  0.024264 -0.019401 -0.009707 -0.023145\n",
       "97 -0.060904  0.037730 -0.001164 -0.034830 -0.035776\n",
       "98 -0.029487  0.042733 -0.008163 -0.023383 -0.014691\n",
       "99 -0.044244  0.028125 -0.002569 -0.016829 -0.031984\n",
       "\n",
       "[100 rows x 5 columns]"
      ]
     },
     "execution_count": 8,
     "metadata": {},
     "output_type": "execute_result"
    }
   ],
   "source": [
    "simulation_mtry5md2"
   ]
  },
  {
   "cell_type": "code",
   "execution_count": 3,
   "metadata": {},
   "outputs": [
    {
     "data": {
      "text/plain": [
       "<AxesSubplot:>"
      ]
     },
     "execution_count": 3,
     "metadata": {},
     "output_type": "execute_result"
    },
    {
     "data": {
      "image/png": "[encoded data removed]",
      "text/plain": [
       "<Figure size 432x288 with 1 Axes>"
      ]
     },
     "metadata": {
      "needs_background": "light"
     },
     "output_type": "display_data"
    }
   ],
   "source": [
    "simulation_sage_train_test_default.boxplot() # train_test default (all features; max_depth=6)"
   ]
  },
  {
   "cell_type": "code",
   "execution_count": 6,
   "metadata": {},
   "outputs": [
    {
     "data": {
      "text/plain": [
       "<AxesSubplot:>"
      ]
     },
     "execution_count": 6,
     "metadata": {},
     "output_type": "execute_result"
    },
    {
     "data": {
      "image/png": "[encoded data removed]",
      "text/plain": [
       "<Figure size 432x288 with 1 Axes>"
      ]
     },
     "metadata": {
      "needs_background": "light"
     },
     "output_type": "display_data"
    }
   ],
   "source": [
    "simulation_sage_train_train_default.boxplot() # train_train default (all features; max_depth=6)"
   ]
  },
  {
   "cell_type": "code",
   "execution_count": 4,
   "metadata": {},
   "outputs": [
    {
     "data": {
      "text/plain": [
       "<AxesSubplot:>"
      ]
     },
     "execution_count": 4,
     "metadata": {},
     "output_type": "execute_result"
    },
    {
     "data": {
      "image/png": "[encoded data removed]",
      "text/plain": [
       "<Figure size 432x288 with 1 Axes>"
      ]
     },
     "metadata": {
      "needs_background": "light"
     },
     "output_type": "display_data"
    }
   ],
   "source": [
    "simulation_sage_train_train_0.boxplot() # train_train default (all features; max_depth=6, revelance = 0)"
   ]
  },
  {
   "cell_type": "code",
   "execution_count": 6,
   "metadata": {
    "scrolled": true
   },
   "outputs": [
    {
     "data": {
      "text/plain": [
       "<AxesSubplot:>"
      ]
     },
     "execution_count": 6,
     "metadata": {},
     "output_type": "execute_result"
    },
    {
     "data": {
      "image/png": "[encoded data removed]",
      "text/plain": [
       "<Figure size 432x288 with 1 Axes>"
      ]
     },
     "metadata": {
      "needs_background": "light"
     },
     "output_type": "display_data"
    }
   ],
   "source": [
    "simulation_sage_train_test_0.boxplot() # train_test default (all features; max_depth=6, revelance = 0)"
   ]
  },
  {
   "cell_type": "code",
   "execution_count": 4,
   "metadata": {},
   "outputs": [
    {
     "data": {
      "text/plain": [
       "<AxesSubplot:>"
      ]
     },
     "execution_count": 4,
     "metadata": {},
     "output_type": "execute_result"
    },
    {
     "data": {
      "image/png": "[encoded data removed]",
      "text/plain": [
       "<Figure size 432x288 with 1 Axes>"
      ]
     },
     "metadata": {
      "needs_background": "light"
     },
     "output_type": "display_data"
    }
   ],
   "source": [
    "simulation_sage_train_test_0_m2_md2.boxplot() # train_test (mtry=2; max_depth=2, revelance = 0)"
   ]
  },
  {
   "cell_type": "code",
   "execution_count": 10,
   "metadata": {},
   "outputs": [
    {
     "data": {
      "text/plain": [
       "<AxesSubplot:>"
      ]
     },
     "execution_count": 10,
     "metadata": {},
     "output_type": "execute_result"
    },
    {
     "data": {
      "image/png": "[encoded data removed]",
      "text/plain": [
       "<Figure size 432x288 with 1 Axes>"
      ]
     },
     "metadata": {
      "needs_background": "light"
     },
     "output_type": "display_data"
    }
   ],
   "source": [
    "simulation_sage_train_train_0_m2_md2.boxplot() # train_train (mtry=2; max_depth=2, revelance = 0)"
   ]
  },
  {
   "cell_type": "code",
   "execution_count": 12,
   "metadata": {},
   "outputs": [
    {
     "data": {
      "text/plain": [
       "<AxesSubplot:>"
      ]
     },
     "execution_count": 12,
     "metadata": {},
     "output_type": "execute_result"
    },
    {
     "data": {
      "image/png": "[encoded data removed]",
      "text/plain": [
       "<Figure size 432x288 with 1 Axes>"
      ]
     },
     "metadata": {
      "needs_background": "light"
     },
     "output_type": "display_data"
    }
   ],
   "source": [
    "simulation_sage_train_test_0_m5_md2.boxplot() # train_test (mtry=5; max_depth=2, revelance = 0)\n"
   ]
  },
  {
   "cell_type": "code",
   "execution_count": 9,
   "metadata": {},
   "outputs": [
    {
     "data": {
      "text/plain": [
       "<AxesSubplot:>"
      ]
     },
     "execution_count": 9,
     "metadata": {},
     "output_type": "execute_result"
    },
    {
     "data": {
      "image/png": "[encoded data removed]",
      "text/plain": [
       "<Figure size 432x288 with 1 Axes>"
      ]
     },
     "metadata": {
      "needs_background": "light"
     },
     "output_type": "display_data"
    }
   ],
   "source": [
    "simulation_mtry2md2.boxplot()"
   ]
  },
  {
   "cell_type": "code",
   "execution_count": 10,
   "metadata": {},
   "outputs": [
    {
     "data": {
      "text/plain": [
       "<AxesSubplot:>"
      ]
     },
     "execution_count": 10,
     "metadata": {},
     "output_type": "execute_result"
    },
    {
     "data": {
      "image/png": "[encoded data removed]",
      "text/plain": [
       "<Figure size 432x288 with 1 Axes>"
      ]
     },
     "metadata": {
      "needs_background": "light"
     },
     "output_type": "display_data"
    }
   ],
   "source": [
    "simulation_mtry5md2.boxplot()"
   ]
  },
  {
   "cell_type": "code",
   "execution_count": null,
   "metadata": {},
   "outputs": [],
   "source": []
  }
 ],
 "metadata": {
  "kernelspec": {
   "display_name": "Python 3.9.12 ('base')",
   "language": "python",
   "name": "python3"
  },
  "language_info": {
   "codemirror_mode": {
    "name": "ipython",
    "version": 3
   },
   "file_extension": ".py",
   "mimetype": "text/x-python",
   "name": "python",
   "nbconvert_exporter": "python",
   "pygments_lexer": "ipython3",
   "version": "3.9.12"
  },
  "toc": {
   "base_numbering": 1,
   "nav_menu": {},
   "number_sections": true,
   "sideBar": true,
   "skip_h1_title": false,
   "title_cell": "Table of Contents",
   "title_sidebar": "Contents",
   "toc_cell": true,
   "toc_position": {},
   "toc_section_display": true,
   "toc_window_display": false
  },
  "vscode": {
   "interpreter": {
    "hash": "a0a30072d99f792894b03dc9f0b1f0203561f4280b706a15cd2cde153fd3f68f"
   }
  }
 },
 "nbformat": 4,
 "nbformat_minor": 4
}
